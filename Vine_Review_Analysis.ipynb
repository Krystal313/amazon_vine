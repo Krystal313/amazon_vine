{
  "nbformat": 4,
  "nbformat_minor": 0,
  "metadata": {
    "colab": {
      "name": "Vine_Review_Analysis.ipynb",
      "provenance": [],
      "collapsed_sections": []
    },
    "kernelspec": {
      "name": "python3",
      "display_name": "Python 3"
    },
    "language_info": {
      "name": "python"
    }
  },
  "cells": [
    {
      "cell_type": "code",
      "execution_count": null,
      "metadata": {
        "colab": {
          "base_uri": "https://localhost:8080/"
        },
        "id": "J_ppJvY-5P9O",
        "outputId": "23780d43-de48-4d69-b748-85d55e3da55d"
      },
      "outputs": [
        {
          "output_type": "stream",
          "name": "stdout",
          "text": [
            "\r0% [Working]\r            \rHit:1 http://security.ubuntu.com/ubuntu bionic-security InRelease\n",
            "\r0% [Connecting to archive.ubuntu.com (185.125.190.39)] [Connecting to cloud.r-p\r                                                                               \rHit:2 http://archive.ubuntu.com/ubuntu bionic InRelease\n",
            "\r                                                                               \rHit:3 http://ppa.launchpad.net/c2d4u.team/c2d4u4.0+/ubuntu bionic InRelease\n",
            "\r0% [Waiting for headers] [Connected to cloud.r-project.org (108.157.4.86)] [Con\r0% [1 InRelease gpgv 88.7 kB] [Waiting for headers] [Connected to cloud.r-proje\r                                                                               \rHit:4 http://archive.ubuntu.com/ubuntu bionic-updates InRelease\n",
            "\r0% [1 InRelease gpgv 88.7 kB] [Waiting for headers] [Connected to cloud.r-proje\r                                                                               \rHit:5 http://ppa.launchpad.net/cran/libgit2/ubuntu bionic InRelease\n",
            "\r0% [1 InRelease gpgv 88.7 kB] [Waiting for headers] [Connected to cloud.r-proje\r                                                                               \rHit:6 http://archive.ubuntu.com/ubuntu bionic-backports InRelease\n",
            "\r0% [1 InRelease gpgv 88.7 kB] [Connected to cloud.r-project.org (108.157.4.86)]\r                                                                               \rHit:7 http://ppa.launchpad.net/deadsnakes/ppa/ubuntu bionic InRelease\n",
            "\r0% [1 InRelease gpgv 88.7 kB] [Connected to cloud.r-project.org (108.157.4.86)]\r                                                                               \rHit:8 http://ppa.launchpad.net/graphics-drivers/ppa/ubuntu bionic InRelease\n",
            "\r                                                                               \r0% [1 InRelease gpgv 88.7 kB] [Waiting for headers] [Waiting for headers]\r                                                                         \rHit:9 https://cloud.r-project.org/bin/linux/ubuntu bionic-cran40/ InRelease\n",
            "Ign:10 https://developer.download.nvidia.com/compute/cuda/repos/ubuntu1804/x86_64  InRelease\n",
            "Ign:11 https://developer.download.nvidia.com/compute/machine-learning/repos/ubuntu1804/x86_64  InRelease\n",
            "Hit:12 https://developer.download.nvidia.com/compute/cuda/repos/ubuntu1804/x86_64  Release\n",
            "Hit:13 https://developer.download.nvidia.com/compute/machine-learning/repos/ubuntu1804/x86_64  Release\n",
            "Reading package lists... Done\n"
          ]
        }
      ],
      "source": [
        "import os\n",
        "# Find the latest version of spark 3.0 from http://www.apache.org/dist/spark/ and enter as the spark version\n",
        "# For example:\n",
        "# spark_version = 'spark-3.0.3'\n",
        "spark_version = 'spark-3.0.3'\n",
        "os.environ['SPARK_VERSION']=spark_version\n",
        "\n",
        "# Install Spark and Java\n",
        "!apt-get update\n",
        "!apt-get install openjdk-11-jdk-headless -qq > /dev/null\n",
        "!wget -q http://www.apache.org/dist/spark/$SPARK_VERSION/$SPARK_VERSION-bin-hadoop2.7.tgz\n",
        "!tar xf $SPARK_VERSION-bin-hadoop2.7.tgz\n",
        "!pip install -q findspark\n",
        "\n",
        "# Set Environment Variables\n",
        "import os\n",
        "os.environ[\"JAVA_HOME\"] = \"/usr/lib/jvm/java-11-openjdk-amd64\"\n",
        "os.environ[\"SPARK_HOME\"] = f\"/content/{spark_version}-bin-hadoop2.7\"\n",
        "\n",
        "# Start a SparkSession\n",
        "import findspark\n",
        "findspark.init()"
      ]
    },
    {
      "cell_type": "code",
      "source": [
        "# Download the Postgres driver that will allow Spark to interact with Postgres.\n",
        "!wget https://jdbc.postgresql.org/download/postgresql-42.2.16.jar"
      ],
      "metadata": {
        "colab": {
          "base_uri": "https://localhost:8080/"
        },
        "id": "XZC4tKNp5Rzd",
        "outputId": "1dcadcf8-63a4-47e1-fe2c-ed8d2fd37db1"
      },
      "execution_count": null,
      "outputs": [
        {
          "output_type": "stream",
          "name": "stdout",
          "text": [
            "--2022-04-18 04:59:07--  https://jdbc.postgresql.org/download/postgresql-42.2.16.jar\n",
            "Resolving jdbc.postgresql.org (jdbc.postgresql.org)... 72.32.157.228, 2001:4800:3e1:1::228\n",
            "Connecting to jdbc.postgresql.org (jdbc.postgresql.org)|72.32.157.228|:443... connected.\n",
            "HTTP request sent, awaiting response... 200 OK\n",
            "Length: 1002883 (979K) [application/java-archive]\n",
            "Saving to: ‘postgresql-42.2.16.jar.3’\n",
            "\n",
            "postgresql-42.2.16. 100%[===================>] 979.38K  1.69MB/s    in 0.6s    \n",
            "\n",
            "2022-04-18 04:59:08 (1.69 MB/s) - ‘postgresql-42.2.16.jar.3’ saved [1002883/1002883]\n",
            "\n"
          ]
        }
      ]
    },
    {
      "cell_type": "code",
      "source": [
        "from pyspark.sql import SparkSession\n",
        "spark = SparkSession.builder.appName(\"M16-Amazon-Challenge\").config(\"spark.driver.extraClassPath\",\"/content/postgresql-42.2.16.jar\").getOrCreate()"
      ],
      "metadata": {
        "id": "ZdDl5UMh5Vyr"
      },
      "execution_count": null,
      "outputs": []
    },
    {
      "cell_type": "code",
      "source": [
        "from pyspark import SparkFiles\n",
        "url = \"https://s3.amazonaws.com/amazon-reviews-pds/tsv/amazon_reviews_us_Jewelry_v1_00.tsv.gz\"\n",
        "spark.sparkContext.addFile(url)\n",
        "df = spark.read.option(\"encoding\", \"UTF-8\").csv(SparkFiles.get(\"\"), sep=\"\\t\", header=True, inferSchema=True)\n",
        "df.show()"
      ],
      "metadata": {
        "colab": {
          "base_uri": "https://localhost:8080/"
        },
        "id": "cBUAT0aP5Xk2",
        "outputId": "567179b7-bb6b-4567-bc37-3f499848419c"
      },
      "execution_count": null,
      "outputs": [
        {
          "output_type": "stream",
          "name": "stdout",
          "text": [
            "+-----------+-----------+--------------+----------+--------------+--------------------+----------------+-----------+-------------+-----------+----+-----------------+--------------------+--------------------+-----------+\n",
            "|marketplace|customer_id|     review_id|product_id|product_parent|       product_title|product_category|star_rating|helpful_votes|total_votes|vine|verified_purchase|     review_headline|         review_body|review_date|\n",
            "+-----------+-----------+--------------+----------+--------------+--------------------+----------------+-----------+-------------+-----------+----+-----------------+--------------------+--------------------+-----------+\n",
            "|         US|   50423057|R135Q3VZ4DQN5N|B00JWXFDMG|     657335467|Everbling Purple ...|         Jewelry|          5|            0|          0|   N|                Y|           Beauties!|so beautiful even...| 2015-08-31|\n",
            "|         US|   11262325|R2N0QQ6R4T7YRY|B00W5T1H9W|      26030170|925 Sterling Silv...|         Jewelry|          5|            0|          0|   N|                N|      Great product.|Great product.. I...| 2015-08-31|\n",
            "|         US|   27541121|R3N5JE5Y4T6W5M|B00M2L6KFY|     697845240|Sterling Silver C...|         Jewelry|          5|            0|          0|   N|                Y|Exactly as pictur...|Exactly as pictur...| 2015-08-31|\n",
            "|         US|    5350721|R2I150CX5IVY9Q|B0006SW2WU|     569859289|Surgical Stainles...|         Jewelry|          5|            0|          0|   N|                Y|          Five Stars|Love it. Fits gre...| 2015-08-31|\n",
            "|         US|   24484424|R1RM9ICOOA9MQ3|B009YPDW70|     332947422|Sterling Silver F...|         Jewelry|          5|            0|          0|   N|                Y|... a Mother's Da...|Got this as a Mot...| 2015-08-31|\n",
            "|         US|     457767|R2J2KMDL10UMSH|B00QGA8XZM|     424804582|CHOOSE YOUR COLOR...|         Jewelry|          5|            0|          0|   N|                Y|          Five Stars|I Love It Make Me...| 2015-08-31|\n",
            "|         US|   31009358|R3R9ZUFA4TB4FQ|B00L0N0E8E|     589441783|Metal Factory 925...|         Jewelry|          5|            0|          0|   N|                Y|          Five Stars|True to size, unique| 2015-08-31|\n",
            "|         US|    7034628|R3UQ8VAQN7R6WL|B00DMWQKWA|     517428445|niceEshop(TM)Clas...|         Jewelry|          5|            0|          0|   N|                Y|          Five Stars|This necklace is ...| 2015-08-31|\n",
            "|         US|   34608636|R1FXZ69C01JNQM|B00THLHAGA|     320313750|Genuine Natural B...|         Jewelry|          5|            0|          0|   N|                Y|          Five Stars|        just perfect| 2015-08-31|\n",
            "|         US|   44972687| RY36LB4OW0FFS|B00UXSEOHY|     589365488|MBOX Expandable A...|         Jewelry|          5|            0|          0|   N|                Y|          Five Stars|           Love it !| 2015-08-31|\n",
            "|         US|   16684508| R6PKS54PC6ZY2|B00XGRYGVS|     217045013|Set of 3 Nose Rin...|         Jewelry|          1|            4|          4|   N|                Y|I had high hopes ...|They didn't even ...| 2015-08-31|\n",
            "|         US|   23493178|R1LYSAH0IECVWB|B00AJ2VU8A|     972853757|3-row White A Gra...|         Jewelry|          5|            0|          0|   N|                Y|This is a real ni...|This is a real ni...| 2015-08-31|\n",
            "|         US|     108294|R1UN0IZI3XQ3E2|B00LE5Y100|     979375701|KONOV Mens Stainl...|         Jewelry|          5|            2|          3|   N|                Y|             AMAZING|This is a very co...| 2015-08-31|\n",
            "|         US|   25810742| RIKDXD8QGL99S|B013E0AOH6|     619592796|TEMEGO Jewelry Me...|         Jewelry|          5|            1|          1|   N|                Y|          Five Stars|Great quality for...| 2015-08-31|\n",
            "|         US|   12037665| RUZCQTXZVGUFH|B00XAWUP96|     783863439|Royal Blue/White ...|         Jewelry|          4|            1|          1|   N|                Y|A Little Smaller ...|I like the bracel...| 2015-08-31|\n",
            "|         US|   51793466|R35CD4IHO3RP9H|B00WD82F1O|     655270378|10-11mm Baroque F...|         Jewelry|          5|            1|          1|   N|                Y|Pretty and Versatile|This is pretty an...| 2015-08-31|\n",
            "|         US|     127508|R13YD66XC9221U|B00JP4XCSO|     592155747|Sankuwen® Fashion...|         Jewelry|          1|            0|          0|   N|                N|Don't get this li...|Don't get this li...| 2015-08-31|\n",
            "|         US|   38430946| RHWG4JRVDSEYY|B00PZSM384|     622179716|zjskin6688 store ...|         Jewelry|          3|            1|          1|   N|                Y|         Three Stars|Not what I expect...| 2015-08-31|\n",
            "|         US|   33684654|R3SPIKMJ5IWHX8|B00VLMW18K|      36759824|Scheppend Polymer...|         Jewelry|          4|            0|          0|   N|                Y|          Four Stars|Bought these for ...| 2015-08-31|\n",
            "|         US|    5068631| RS19ACU7KWWNE|B00U5LDBB4|     575109200|Horizontal Sidewa...|         Jewelry|          5|            1|          1|   N|                Y|          Five Stars|Pretty, and very ...| 2015-08-31|\n",
            "+-----------+-----------+--------------+----------+--------------+--------------------+----------------+-----------+-------------+-----------+----+-----------------+--------------------+--------------------+-----------+\n",
            "only showing top 20 rows\n",
            "\n"
          ]
        }
      ]
    },
    {
      "cell_type": "code",
      "source": [
        "# Filter the data and create a new DataFrame or table to retrieve all the rows where the total_votes count is equal to or greater than 20 to pick reviews that are more likely to be helpful and to avoid having division by zero errors later on.\n",
        "filtered_total_votes = df.filter(\"total_votes>=20\")\n",
        "filtered_total_votes.show()"
      ],
      "metadata": {
        "colab": {
          "base_uri": "https://localhost:8080/"
        },
        "id": "zPnyOWoI5bC1",
        "outputId": "de28bb82-e0cb-4c7a-b753-f5b8f1ce88eb"
      },
      "execution_count": null,
      "outputs": [
        {
          "output_type": "stream",
          "name": "stdout",
          "text": [
            "+-----------+-----------+--------------+----------+--------------+--------------------+----------------+-----------+-------------+-----------+----+-----------------+--------------------+--------------------+-----------+\n",
            "|marketplace|customer_id|     review_id|product_id|product_parent|       product_title|product_category|star_rating|helpful_votes|total_votes|vine|verified_purchase|     review_headline|         review_body|review_date|\n",
            "+-----------+-----------+--------------+----------+--------------+--------------------+----------------+-----------+-------------+-----------+----+-----------------+--------------------+--------------------+-----------+\n",
            "|         US|   18238567|R16YC6SMGKA8SR|B00MD99R9G|     692935467|Fun Daisy New Des...|         Jewelry|          5|           23|         23|   N|                Y|Beautiful stateme...|This is the first...| 2015-08-31|\n",
            "|         US|   35346149| R5O4WE9UM60B0|B00Q8BYTAW|      48877050|Women's New Simpl...|         Jewelry|          1|           29|         29|   N|                Y|I did expect it t...|Let me preface th...| 2015-08-31|\n",
            "|         US|   41095424|R2EKRVCRC7U0IY|B00PJIPZGW|     677765845|Antique Brass Ton...|         Jewelry|          1|           22|         24|   N|                Y|            One Star|Poor quality!<br ...| 2015-08-31|\n",
            "|         US|    4039595|R2OKV47GETH0L7|B00VUTQVDK|     939458680|Jewelrieshop Stai...|         Jewelry|          5|           24|         24|   N|                Y|     Great ear studs|These are great. ...| 2015-08-31|\n",
            "|         US|   38319820| R36LII9IITE17|B00MB9YCDO|     367067706|ArRord Beautiful ...|         Jewelry|          1|           22|         24|   N|                Y|              AWFUL!|Took 4 weeks to a...| 2015-08-31|\n",
            "|         US|   18658991|R35VKNE16PFY0H|B00YFNZYDG|     670585095|Bracelets For Wom...|         Jewelry|          5|           22|         24|   N|                N|Luckily I found t...|[[VIDEOID:6e75766...| 2015-08-30|\n",
            "|         US|     421300|R3TG008LHHZZIN|B00FZOTLC4|     350810365|14k Yellow Gold B...|         Jewelry|          5|          123|        125|   N|                Y|    Sweet and simple|[[VIDEOID:66915b7...| 2015-08-30|\n",
            "|         US|    9330212|R2FYQBKCC1XG4M|B009P4G8U8|      80161480|Sterling Silver R...|         Jewelry|          5|           20|         20|   N|                Y|          Five Stars|Gorgeous!! Very s...| 2015-08-30|\n",
            "|         US|   14873596| R63PV336NI5X7|B00UDF11O6|     712133361|Fashion Brand 925...|         Jewelry|          1|           27|         28|   N|                Y|     Broken bracelet|The bracelet brok...| 2015-08-29|\n",
            "|         US|    1278386|R1R42WPHB5ZSWI|B007VFHOQ0|     201950929|Steampunk FIRE ne...|         Jewelry|          5|           51|         52|   N|                Y|Lovely, don't lis...|This is a gorgeou...| 2015-08-29|\n",
            "|         US|     156241| RXSS0QZJE1TEO|B00VNDYPSQ|     690721039|Fashion Jewelry B...|         Jewelry|          1|           35|         35|   N|                Y|            One Star|Buckle was very w...| 2015-08-29|\n",
            "|         US|    2659922| RGS9C5XKWVYP9|B00FBAR1X8|     293039249|10KT White Gold P...|         Jewelry|          1|           24|         24|   N|                Y| unfortunated defect|I was excited to ...| 2015-08-29|\n",
            "|         US|   24596251|R3R5BWMKH1EUIQ|B010QAMEFM|     673336713|CZ Crystal Leaves...|         Jewelry|          5|           26|         27|   N|                N|      Elegant design|Elegant design. I...| 2015-08-29|\n",
            "|         US|    6026413|R2KBDT7RGO1G86|B00BLRNZNK|     228968920|1.50 Carat Round ...|         Jewelry|          3|           33|         39|   N|                Y|It's a beautiful ...|It's a beautiful ...| 2015-08-29|\n",
            "|         US|   14287196|R2WA09RFYT69GB|B00KHWJEFS|     410889586|20 Pieces Plugs S...|         Jewelry|          5|           21|         22|   N|                Y|Insane price, fas...|These are great! ...| 2015-08-29|\n",
            "|         US|   34811153| RYNTUAMCHU3W4|B00UUQ6C5G|     455061130|Rinhoo Random Cha...|         Jewelry|          5|           22|         22|   N|                Y|    Absolutely great|I don't normally ...| 2015-08-29|\n",
            "|         US|   13165713|R3U5NCDM6NLHLC|B00GN3N4EM|     780515323|1.45 Carat (ctw) ...|         Jewelry|          5|           29|         30|   N|                Y|Great Price on a ...|It really is a be...| 2015-08-28|\n",
            "|         US|   45512891| R8708W8U0Z89A|B011W7X1PK|     721871970|Ring Resizer, Rin...|         Jewelry|          2|           37|         38|   N|                Y|I'll pay for inno...|Unlike the other ...| 2015-08-28|\n",
            "|         US|   19703321| RFT7R66D3SA54|B00P8I61NO|     848363259|18k Plated Stainl...|         Jewelry|          5|           23|         24|   N|                Y|              Great!|I ordered the ros...| 2015-08-28|\n",
            "|         US|   42190015|R1OI5TTOS49U8R|B00KR7MLHG|     380199757|Charm.L Grace Cla...|         Jewelry|          5|           33|         34|   N|                Y|                  😍|Stunning! Worth e...| 2015-08-28|\n",
            "+-----------+-----------+--------------+----------+--------------+--------------------+----------------+-----------+-------------+-----------+----+-----------------+--------------------+--------------------+-----------+\n",
            "only showing top 20 rows\n",
            "\n"
          ]
        }
      ]
    },
    {
      "cell_type": "code",
      "source": [
        "# Filter the new DataFrame or table created in Step 1 and create a new DataFrame or table to retrieve all the rows where the number of helpful_votes divided by total_votes is equal to or greater than 50%.\n",
        "second_filtered_votes = df.filter(\"(helpful_votes/total_votes)>=0.5\")\n",
        "second_filtered_votes .show()"
      ],
      "metadata": {
        "colab": {
          "base_uri": "https://localhost:8080/"
        },
        "id": "BZ2EwdnW7QMn",
        "outputId": "ecea6a82-8f46-4e3a-b1eb-1c50b8cf6f45"
      },
      "execution_count": null,
      "outputs": [
        {
          "output_type": "stream",
          "name": "stdout",
          "text": [
            "+-----------+-----------+--------------+----------+--------------+--------------------+----------------+-----------+-------------+-----------+----+-----------------+--------------------+--------------------+-----------+\n",
            "|marketplace|customer_id|     review_id|product_id|product_parent|       product_title|product_category|star_rating|helpful_votes|total_votes|vine|verified_purchase|     review_headline|         review_body|review_date|\n",
            "+-----------+-----------+--------------+----------+--------------+--------------------+----------------+-----------+-------------+-----------+----+-----------------+--------------------+--------------------+-----------+\n",
            "|         US|   16684508| R6PKS54PC6ZY2|B00XGRYGVS|     217045013|Set of 3 Nose Rin...|         Jewelry|          1|            4|          4|   N|                Y|I had high hopes ...|They didn't even ...| 2015-08-31|\n",
            "|         US|     108294|R1UN0IZI3XQ3E2|B00LE5Y100|     979375701|KONOV Mens Stainl...|         Jewelry|          5|            2|          3|   N|                Y|             AMAZING|This is a very co...| 2015-08-31|\n",
            "|         US|   25810742| RIKDXD8QGL99S|B013E0AOH6|     619592796|TEMEGO Jewelry Me...|         Jewelry|          5|            1|          1|   N|                Y|          Five Stars|Great quality for...| 2015-08-31|\n",
            "|         US|   12037665| RUZCQTXZVGUFH|B00XAWUP96|     783863439|Royal Blue/White ...|         Jewelry|          4|            1|          1|   N|                Y|A Little Smaller ...|I like the bracel...| 2015-08-31|\n",
            "|         US|   51793466|R35CD4IHO3RP9H|B00WD82F1O|     655270378|10-11mm Baroque F...|         Jewelry|          5|            1|          1|   N|                Y|Pretty and Versatile|This is pretty an...| 2015-08-31|\n",
            "|         US|   38430946| RHWG4JRVDSEYY|B00PZSM384|     622179716|zjskin6688 store ...|         Jewelry|          3|            1|          1|   N|                Y|         Three Stars|Not what I expect...| 2015-08-31|\n",
            "|         US|    5068631| RS19ACU7KWWNE|B00U5LDBB4|     575109200|Horizontal Sidewa...|         Jewelry|          5|            1|          1|   N|                Y|          Five Stars|Pretty, and very ...| 2015-08-31|\n",
            "|         US|   46667015|R21HUZ3R50MKXY|B00T24K90Q|     481854518|Magnoli Clothiers...|         Jewelry|          4|            5|          5|   N|                Y|Tell me Clara: Am...|Great ring. Looks...| 2015-08-31|\n",
            "|         US|     122552| RQBGO394H6POG|B010BZ6H14|     638390748|Non-piercing Sept...|         Jewelry|          5|            2|          2|   N|                Y|           LOVE THEM|These look so cut...| 2015-08-31|\n",
            "|         US|   46789906|R2EH1B0UWF6MBO|B00KQ4FEQ0|     723583571|925 Sterling Silv...|         Jewelry|          5|            1|          1|   N|                Y|          Wonderful!|Stunningly amazin...| 2015-08-31|\n",
            "|         US|   30978102| RDXED12684VRO|B00449ZF4O|      84121669|Large Watch/Cuff ...|         Jewelry|          3|            1|          1|   N|                Y|The bracelet did ...|The bracelet did ...| 2015-08-31|\n",
            "|         US|   34395929| RQRAEY45P5TTB|B007CM0YVO|     782503779|6MM Ladies Eterni...|         Jewelry|          4|            1|          2|   N|                Y|Beautiful Ring - ...|I have never trie...| 2015-08-31|\n",
            "|         US|   44794333|R3O30KEKG6XQC3|B00XVX9V8U|      97477517|GULICX Jewelry Ro...|         Jewelry|          5|            1|          1|   N|                Y|very pretty earri...|Very, very pretty...| 2015-08-31|\n",
            "|         US|   18238567|R16YC6SMGKA8SR|B00MD99R9G|     692935467|Fun Daisy New Des...|         Jewelry|          5|           23|         23|   N|                Y|Beautiful stateme...|This is the first...| 2015-08-31|\n",
            "|         US|    5964071|R1SNALD5L3Z87G|B00SU7JRD6|     445592893|Jenaforte © .925 ...|         Jewelry|          5|            1|          1|   N|                Y|One wasn't enough...|One wasn't enough...| 2015-08-31|\n",
            "|         US|     664003| RXVO4OU1R2EPC|B00MN6TAA0|     138274085|Exquisite Mens Ba...|         Jewelry|          5|            1|          1|   N|                Y|          Five Stars|             Amazing| 2015-08-31|\n",
            "|         US|    8280358|R23HWSEE37WLYS|B008OFYN9W|      33239070|14K Yellow Gold B...|         Jewelry|          2|            1|          1|   N|                Y|           Two Stars|I loved the brace...| 2015-08-31|\n",
            "|         US|     620244| RP926NJV7BZE1|B00C9UJ76M|     658559522|Industrial Barbel...|         Jewelry|          5|            2|          2|   N|                Y|          Five Stars|Fast shipment and...| 2015-08-31|\n",
            "|         US|   34428760|R26CSWF77R60BB|B00GC3FQO4|     352993026|Sterling Silver I...|         Jewelry|          5|            5|          6|   N|                Y|I bought both the...|I bought both the...| 2015-08-31|\n",
            "|         US|   52534435|R2ECYTTXEJC2KC|B0073LMQYW|      47284979|Harry Potter gold...|         Jewelry|          5|            1|          1|   N|                Y|          Five Stars|it was a gift she...| 2015-08-31|\n",
            "+-----------+-----------+--------------+----------+--------------+--------------------+----------------+-----------+-------------+-----------+----+-----------------+--------------------+--------------------+-----------+\n",
            "only showing top 20 rows\n",
            "\n"
          ]
        }
      ]
    },
    {
      "cell_type": "code",
      "source": [
        "# Filter the DataFrame or table created in Step 2, and create a new DataFrame or table that retrieves all the rows where a review was written as part of the Vine program (paid), vine == 'Y'.\n",
        "vine_program = second_filtered_votes.filter(df[\"vine\"] == \"Y\")\n",
        "vine_program.show()"
      ],
      "metadata": {
        "colab": {
          "base_uri": "https://localhost:8080/"
        },
        "id": "6GtCQPH18DQ0",
        "outputId": "e9271d13-6c3d-4853-9f42-94ee15863374"
      },
      "execution_count": null,
      "outputs": [
        {
          "output_type": "stream",
          "name": "stdout",
          "text": [
            "+-----------+-----------+--------------+----------+--------------+--------------------+----------------+-----------+-------------+-----------+----+-----------------+--------------------+--------------------+-----------+\n",
            "|marketplace|customer_id|     review_id|product_id|product_parent|       product_title|product_category|star_rating|helpful_votes|total_votes|vine|verified_purchase|     review_headline|         review_body|review_date|\n",
            "+-----------+-----------+--------------+----------+--------------+--------------------+----------------+-----------+-------------+-----------+----+-----------------+--------------------+--------------------+-----------+\n",
            "|         US|   27553219|R3NJK2Q9NCMAUH|B00JS4I2VI|     250841186|10k Yellow Gold \"...|         Jewelry|          4|            6|          6|   Y|                N|Pretty and delicate.|I posted a pictur...| 2015-08-31|\n",
            "|         US|   17957446|R3ICXMI9ID0QS4|B00UABCJBM|     969629128|Diaura Sterling S...|         Jewelry|          5|            1|          1|   Y|                N|Understated Bling...|I like the earrin...| 2015-08-30|\n",
            "|         US|   29321014|R2VBHMK8RP29J3|B00UA9KUL0|     117221142|Sterling Silver E...|         Jewelry|          4|            1|          1|   Y|                N|       Nice Earrings|These are nice, w...| 2015-08-29|\n",
            "|         US|   52953635| RKVYG84505GVU|B00NFCYKY2|     719571592|14K Rose Gold ove...|         Jewelry|          4|            1|          1|   Y|                N|A classic piece i...|This 14K rose gol...| 2015-08-28|\n",
            "|         US|   37188190|R1PMB4U6NNB7EM|B00B5CJO2M|     370507161|Sterling Silver O...|         Jewelry|          3|            1|          2|   Y|                N|Why do they skimp...|Looks much differ...| 2015-08-28|\n",
            "|         US|   30057302| RTH5OBQFTL6UF|B00UA9KUL0|     117221142|Sterling Silver E...|         Jewelry|          4|            1|          1|   Y|                N|             Lovely!|These earrings ar...| 2015-08-28|\n",
            "|         US|   10599673|R2NBM2VG5OJ2RN|B00NFCYKY2|     719571592|14K Rose Gold ove...|         Jewelry|          4|            1|          2|   Y|                N|I was expecting s...|It sparkles.  It ...| 2015-08-28|\n",
            "|         US|   49916339| R526950QQREUM|B00TBBV4YK|     488478040|Rhodium Plated St...|         Jewelry|          5|            1|          1|   Y|                N|         Looks great|It's not the flas...| 2015-08-27|\n",
            "|         US|   53038997| RH4G5X1N6NVK2|B00TUMBCI8|     362430362|Sterling Silver W...|         Jewelry|          5|            1|          1|   Y|                N|A little musical ...|A family member l...| 2015-08-27|\n",
            "|         US|   38030952|R1AM23T1EBX2FC|B00H37WVT6|       1417319|18k Yellow Gold P...|         Jewelry|          5|            2|          2|   Y|                N|Sturdy cuff-great...|This bracelet is ...| 2015-08-26|\n",
            "|         US|   52818244|R2DM3WU24W92BZ|B00YX6MME4|     174960472|10k Gold Earrings...|         Jewelry|          5|            1|          1|   Y|                N|I'm a jewelry sno...|These earrings ar...| 2015-08-25|\n",
            "|         US|   51917998|R2U6UPKHNL71LT|B011NXDTAA|      80618054|18k Gold and Rhod...|         Jewelry|          5|            1|          1|   Y|                N|Shiny for formal ...|This is a pair of...| 2015-08-25|\n",
            "|         US|   49336498|R3VDUTE9CBGMVX|B00JR5PGJO|     560308758|14k Gold Italian ...|         Jewelry|          4|            1|          1|   Y|                N|    Attractive hoops|The 14k Italian T...| 2015-08-24|\n",
            "|         US|   29483495|R3A1DIC9HMD8P8|B00JCAU7QG|     993218884|Sterling Silver B...|         Jewelry|          4|            1|          2|   Y|                N|Lovely and elegan...|I’m used to daint...| 2015-08-24|\n",
            "|         US|   44066769| RQI9LG392MBV7|B011NXDTUU|     918886261|18k Gold and Rhod...|         Jewelry|          4|            7|          7|   Y|                N|     Pretty Earrings|These love knot e...| 2015-08-23|\n",
            "|         US|   13946721|R1DCR6968TCJ16|B011NXDTUU|     918886261|18k Gold and Rhod...|         Jewelry|          5|            4|          4|   Y|                N|Beautiful Love-Kn...|These are beautif...| 2015-08-22|\n",
            "|         US|   44992591|R3CXGH1NRQ55PD|B011NXDMUW|      99299833|Rose Gold and Rho...|         Jewelry|          5|            1|          1|   Y|                N|Beautiful and del...|The rose gold col...| 2015-08-22|\n",
            "|         US|   28853306|R35E8GED9YH7BI|B00JS4I1PU|     286940944|10k Yellow Gold P...|         Jewelry|          5|            1|          1|   Y|                N|   Adorable Necklace|This is a really ...| 2015-08-22|\n",
            "|         US|   30377162|R3DE7LZH5UYC4C|B00YX6MME4|     174960472|10k Gold Earrings...|         Jewelry|          5|            1|          1|   Y|                N|         Solid Gold!|Solid Gold! Well,...| 2015-08-20|\n",
            "|         US|   53017806|R1NKAYGE8IUJCI|B00JR5PGJO|     560308758|14k Gold Italian ...|         Jewelry|          5|            2|          2|   Y|                N|Understated elegance|[[VIDEOID:e862f5b...| 2015-08-19|\n",
            "+-----------+-----------+--------------+----------+--------------+--------------------+----------------+-----------+-------------+-----------+----+-----------------+--------------------+--------------------+-----------+\n",
            "only showing top 20 rows\n",
            "\n"
          ]
        }
      ]
    },
    {
      "cell_type": "code",
      "source": [
        "#Repeat Step 3, but this time retrieve all the rows where the review was not part of the Vine program (unpaid), vine == 'N'.\n",
        "non_vine_program = second_filtered_votes.filter(df[\"vine\"] == \"N\")\n",
        "non_vine_program.show()"
      ],
      "metadata": {
        "colab": {
          "base_uri": "https://localhost:8080/"
        },
        "id": "A97gM2Y89n7T",
        "outputId": "45dd2b01-724a-4d5e-b361-f1769db83d5c"
      },
      "execution_count": null,
      "outputs": [
        {
          "output_type": "stream",
          "name": "stdout",
          "text": [
            "+-----------+-----------+--------------+----------+--------------+--------------------+----------------+-----------+-------------+-----------+----+-----------------+--------------------+--------------------+-----------+\n",
            "|marketplace|customer_id|     review_id|product_id|product_parent|       product_title|product_category|star_rating|helpful_votes|total_votes|vine|verified_purchase|     review_headline|         review_body|review_date|\n",
            "+-----------+-----------+--------------+----------+--------------+--------------------+----------------+-----------+-------------+-----------+----+-----------------+--------------------+--------------------+-----------+\n",
            "|         US|   16684508| R6PKS54PC6ZY2|B00XGRYGVS|     217045013|Set of 3 Nose Rin...|         Jewelry|          1|            4|          4|   N|                Y|I had high hopes ...|They didn't even ...| 2015-08-31|\n",
            "|         US|     108294|R1UN0IZI3XQ3E2|B00LE5Y100|     979375701|KONOV Mens Stainl...|         Jewelry|          5|            2|          3|   N|                Y|             AMAZING|This is a very co...| 2015-08-31|\n",
            "|         US|   25810742| RIKDXD8QGL99S|B013E0AOH6|     619592796|TEMEGO Jewelry Me...|         Jewelry|          5|            1|          1|   N|                Y|          Five Stars|Great quality for...| 2015-08-31|\n",
            "|         US|   12037665| RUZCQTXZVGUFH|B00XAWUP96|     783863439|Royal Blue/White ...|         Jewelry|          4|            1|          1|   N|                Y|A Little Smaller ...|I like the bracel...| 2015-08-31|\n",
            "|         US|   51793466|R35CD4IHO3RP9H|B00WD82F1O|     655270378|10-11mm Baroque F...|         Jewelry|          5|            1|          1|   N|                Y|Pretty and Versatile|This is pretty an...| 2015-08-31|\n",
            "|         US|   38430946| RHWG4JRVDSEYY|B00PZSM384|     622179716|zjskin6688 store ...|         Jewelry|          3|            1|          1|   N|                Y|         Three Stars|Not what I expect...| 2015-08-31|\n",
            "|         US|    5068631| RS19ACU7KWWNE|B00U5LDBB4|     575109200|Horizontal Sidewa...|         Jewelry|          5|            1|          1|   N|                Y|          Five Stars|Pretty, and very ...| 2015-08-31|\n",
            "|         US|   46667015|R21HUZ3R50MKXY|B00T24K90Q|     481854518|Magnoli Clothiers...|         Jewelry|          4|            5|          5|   N|                Y|Tell me Clara: Am...|Great ring. Looks...| 2015-08-31|\n",
            "|         US|     122552| RQBGO394H6POG|B010BZ6H14|     638390748|Non-piercing Sept...|         Jewelry|          5|            2|          2|   N|                Y|           LOVE THEM|These look so cut...| 2015-08-31|\n",
            "|         US|   46789906|R2EH1B0UWF6MBO|B00KQ4FEQ0|     723583571|925 Sterling Silv...|         Jewelry|          5|            1|          1|   N|                Y|          Wonderful!|Stunningly amazin...| 2015-08-31|\n",
            "|         US|   30978102| RDXED12684VRO|B00449ZF4O|      84121669|Large Watch/Cuff ...|         Jewelry|          3|            1|          1|   N|                Y|The bracelet did ...|The bracelet did ...| 2015-08-31|\n",
            "|         US|   34395929| RQRAEY45P5TTB|B007CM0YVO|     782503779|6MM Ladies Eterni...|         Jewelry|          4|            1|          2|   N|                Y|Beautiful Ring - ...|I have never trie...| 2015-08-31|\n",
            "|         US|   44794333|R3O30KEKG6XQC3|B00XVX9V8U|      97477517|GULICX Jewelry Ro...|         Jewelry|          5|            1|          1|   N|                Y|very pretty earri...|Very, very pretty...| 2015-08-31|\n",
            "|         US|   18238567|R16YC6SMGKA8SR|B00MD99R9G|     692935467|Fun Daisy New Des...|         Jewelry|          5|           23|         23|   N|                Y|Beautiful stateme...|This is the first...| 2015-08-31|\n",
            "|         US|    5964071|R1SNALD5L3Z87G|B00SU7JRD6|     445592893|Jenaforte © .925 ...|         Jewelry|          5|            1|          1|   N|                Y|One wasn't enough...|One wasn't enough...| 2015-08-31|\n",
            "|         US|     664003| RXVO4OU1R2EPC|B00MN6TAA0|     138274085|Exquisite Mens Ba...|         Jewelry|          5|            1|          1|   N|                Y|          Five Stars|             Amazing| 2015-08-31|\n",
            "|         US|    8280358|R23HWSEE37WLYS|B008OFYN9W|      33239070|14K Yellow Gold B...|         Jewelry|          2|            1|          1|   N|                Y|           Two Stars|I loved the brace...| 2015-08-31|\n",
            "|         US|     620244| RP926NJV7BZE1|B00C9UJ76M|     658559522|Industrial Barbel...|         Jewelry|          5|            2|          2|   N|                Y|          Five Stars|Fast shipment and...| 2015-08-31|\n",
            "|         US|   34428760|R26CSWF77R60BB|B00GC3FQO4|     352993026|Sterling Silver I...|         Jewelry|          5|            5|          6|   N|                Y|I bought both the...|I bought both the...| 2015-08-31|\n",
            "|         US|   52534435|R2ECYTTXEJC2KC|B0073LMQYW|      47284979|Harry Potter gold...|         Jewelry|          5|            1|          1|   N|                Y|          Five Stars|it was a gift she...| 2015-08-31|\n",
            "+-----------+-----------+--------------+----------+--------------+--------------------+----------------+-----------+-------------+-----------+----+-----------------+--------------------+--------------------+-----------+\n",
            "only showing top 20 rows\n",
            "\n"
          ]
        }
      ]
    },
    {
      "cell_type": "code",
      "source": [
        "# Total number of paid review\n",
        "paid_review = vine_program.count()\n",
        "paid_review"
      ],
      "metadata": {
        "colab": {
          "base_uri": "https://localhost:8080/"
        },
        "id": "HDeokOdA-BTT",
        "outputId": "4380b4ce-5974-47e9-e310-8bd2bfa772eb"
      },
      "execution_count": null,
      "outputs": [
        {
          "output_type": "execute_result",
          "data": {
            "text/plain": [
              "1362"
            ]
          },
          "metadata": {},
          "execution_count": 9
        }
      ]
    },
    {
      "cell_type": "code",
      "source": [
        "# Total number of unpaid reviews\n",
        "unpaid_review = non_vine_program.count()\n",
        "unpaid_review"
      ],
      "metadata": {
        "colab": {
          "base_uri": "https://localhost:8080/"
        },
        "id": "IiM0bOco-gs_",
        "outputId": "030a107a-79fa-490e-bdea-e6dfe584c56e"
      },
      "execution_count": null,
      "outputs": [
        {
          "output_type": "execute_result",
          "data": {
            "text/plain": [
              "486131"
            ]
          },
          "metadata": {},
          "execution_count": 10
        }
      ]
    },
    {
      "cell_type": "code",
      "source": [
        "# Total number of reviews\n",
        "total_reviews = paid_review + unpaid_review\n",
        "total_reviews"
      ],
      "metadata": {
        "colab": {
          "base_uri": "https://localhost:8080/"
        },
        "id": "Z9wFXdv7_Ikm",
        "outputId": "50f30271-e4a3-4a53-91fe-ee8544b38f7f"
      },
      "execution_count": null,
      "outputs": [
        {
          "output_type": "execute_result",
          "data": {
            "text/plain": [
              "487493"
            ]
          },
          "metadata": {},
          "execution_count": 11
        }
      ]
    },
    {
      "cell_type": "code",
      "source": [
        "# The number of paid 5 stars review\n",
        "paid_5stars_review = vine_program.filter(df[\"star_rating\"] == \"5\").count()\n",
        "paid_5stars_review\n"
      ],
      "metadata": {
        "colab": {
          "base_uri": "https://localhost:8080/"
        },
        "id": "9oMHibX5_enT",
        "outputId": "754178b4-1dd4-4077-dcf0-26d37c144690"
      },
      "execution_count": null,
      "outputs": [
        {
          "output_type": "execute_result",
          "data": {
            "text/plain": [
              "633"
            ]
          },
          "metadata": {},
          "execution_count": 12
        }
      ]
    },
    {
      "cell_type": "code",
      "source": [
        "# The number of unpaid 5 stars review\n",
        "unpaid_5stars_review = non_vine_program.filter(df[\"star_rating\"] == \"5\").count()\n",
        "unpaid_5stars_review"
      ],
      "metadata": {
        "colab": {
          "base_uri": "https://localhost:8080/"
        },
        "id": "5vCmEqxDAIUM",
        "outputId": "5c04df2b-4ec8-4d51-8de0-78bfeae67a93"
      },
      "execution_count": null,
      "outputs": [
        {
          "output_type": "execute_result",
          "data": {
            "text/plain": [
              "290800"
            ]
          },
          "metadata": {},
          "execution_count": 13
        }
      ]
    },
    {
      "cell_type": "code",
      "source": [
        "# Total 5 stars reviews\n",
        "total_5stars = paid_5stars_review + unpaid_5stars_review\n",
        "total_5stars\n"
      ],
      "metadata": {
        "colab": {
          "base_uri": "https://localhost:8080/"
        },
        "id": "uaQV2a5eABQV",
        "outputId": "c282656d-8fe2-4cf0-d1ff-fa8717e1c93b"
      },
      "execution_count": null,
      "outputs": [
        {
          "output_type": "execute_result",
          "data": {
            "text/plain": [
              "291433"
            ]
          },
          "metadata": {},
          "execution_count": 14
        }
      ]
    },
    {
      "cell_type": "code",
      "source": [
        "# The percentage of paid 5 stars review\n",
        "paid_5stars_percent = (paid_5stars_review/total_reviews) * 100\n",
        "paid_5stars_percent"
      ],
      "metadata": {
        "colab": {
          "base_uri": "https://localhost:8080/"
        },
        "id": "06xsuX1rAlmG",
        "outputId": "d845087b-da6d-4790-ec72-308f91b6e05b"
      },
      "execution_count": null,
      "outputs": [
        {
          "output_type": "execute_result",
          "data": {
            "text/plain": [
              "0.12984801833051962"
            ]
          },
          "metadata": {},
          "execution_count": 15
        }
      ]
    },
    {
      "cell_type": "code",
      "source": [
        "# The percentage of unpaid 5 stars review\n",
        "unpaid_5stars_percent = (unpaid_5stars_review/total_reviews) * 100\n",
        "unpaid_5stars_percent"
      ],
      "metadata": {
        "colab": {
          "base_uri": "https://localhost:8080/"
        },
        "id": "3va2WEzbBSyR",
        "outputId": "624bbf58-7866-456a-c937-732b7efef411"
      },
      "execution_count": null,
      "outputs": [
        {
          "output_type": "execute_result",
          "data": {
            "text/plain": [
              "59.65213859481059"
            ]
          },
          "metadata": {},
          "execution_count": 16
        }
      ]
    },
    {
      "cell_type": "code",
      "source": [
        "# The percentage of 5 stars review\n",
        "total_5stars_percent = paid_5stars_percent + unpaid_5stars_percent\n",
        "total_5stars_percent"
      ],
      "metadata": {
        "colab": {
          "base_uri": "https://localhost:8080/"
        },
        "id": "-VkL3rSLBzxl",
        "outputId": "f28f364c-46e3-4c89-d9e1-9e91c102baa3"
      },
      "execution_count": null,
      "outputs": [
        {
          "output_type": "execute_result",
          "data": {
            "text/plain": [
              "59.78198661314111"
            ]
          },
          "metadata": {},
          "execution_count": 17
        }
      ]
    }
  ]
}